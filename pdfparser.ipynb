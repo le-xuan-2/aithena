{
 "cells": [
  {
   "cell_type": "code",
   "execution_count": 67,
   "metadata": {},
   "outputs": [
    {
     "name": "stdout",
     "output_type": "stream",
     "text": [
      "Requirement already satisfied: pytesseract in /Users/lexuan/anaconda3/lib/python3.11/site-packages (0.3.13)\n",
      "Requirement already satisfied: PyMuPDF in /Users/lexuan/anaconda3/lib/python3.11/site-packages (1.25.5)\n",
      "Requirement already satisfied: Pillow in /Users/lexuan/anaconda3/lib/python3.11/site-packages (9.4.0)\n",
      "Requirement already satisfied: packaging>=21.3 in /Users/lexuan/anaconda3/lib/python3.11/site-packages (from pytesseract) (23.0)\n",
      "Note: you may need to restart the kernel to use updated packages.\n"
     ]
    }
   ],
   "source": [
    "pip install PyMuPDF"
   ]
  },
  {
   "cell_type": "markdown",
   "metadata": {},
   "source": [
    "Goal 1:"
   ]
  },
  {
   "cell_type": "code",
   "execution_count": 177,
   "metadata": {},
   "outputs": [
    {
     "name": "stdout",
     "output_type": "stream",
     "text": [
      "['IN THE GENERAL DIVISION OF  THE HIGH COURT OF THE REPUBLIC OF SINGAPORE [2024] SGHC 69 Originating Application No 902 of 2023 Between Lee Hui Chin … Applicant  And Chubb Insurance Singapore  Limited  … Respondent GROUNDS OF DECISION [Arbitration — Commencement — Extension of time]  Version No 2: 14 Mar 2024 (15:29 hrs)', 'This judgment is subject to final editorial corrections approved by the  court and/or redaction pursuant to the publisher’s duty in compliance  with the law, for publication in LawNet and/or the Singapore Law  Reports Lee Hui Chin  v Chubb Insurance Singapore Ltd  [2024] SGHC 69 General Division of the High Court — Originating Application No 902 of  2023 Chua Lee Ming J 1 November 2023 14 March 2024 Chua Lee Ming J: Introduction  1 The applicant, Mdm Lee Hui Chin, applied under s 10 of the Arbitration  Act 2001 (2020 Rev Ed) (“AA”) to extend the time fixed by the terms of an  arbitration agreement to refer disputes to arbitration I granted the application  for the reasons set out below Facts 2 The applicant was the policyholder of two insurance policies (the  “Policies”) taken out with the respondent, Chubb Insurance Singapore Limited  The insured person under the Policies was the applicant’s spouse (the  “Deceased”) The Policies provided for Accidental Death Benefits (“ADB”),  which was payable in the event that death occurs as a result of an accidental  Version No 2: 14 Mar 2024 (15:29 hrs)', '2 injury The Policies also provided that any dispute was to be referred to  arbitration, and that such arbitration must be commenced three months from the  day such parties were unable to settle the dispute On 2 April 2021, the Deceased  fell while riding his bicycle and was found unconscious in an uncovered drain  He was brought to Ng Teng Fong General Hospital (“NTFGH”) He remained  unconscious until he was removed from life support on 9 April 2021, and he  passed away thereafter', '3 According to the Deceased’s daughter Ms Rachel Teng (“Ms Teng”): (a) the treating doctors at NTFGH had said that the Deceased died  as a consequence of the injuries sustained in the accident, and (b) an MRI scan on 4 April 2021 showed a spinal cord injury; the  MRI report also referenced changes in the Deceased’s lungs, chest  fractures, hypoxic-ischemic encephalopathy and cardiac arrest, and  reflected that the matter was referred to the coroner in view of “unknown  aetiology of cardiac arrest in the community”  4 A death certificate was issued on 10 April 2021, in which the forensic  pathologist certified that the cause of death was “Coronary Artery Disease with  Pneumonia” The State Coroner (the “Coroner”) issued a certificate on the same  Version No 2: 14 Mar 2024 (15:29 hrs)', '3 day stating that as the cause of death was due to natural causes, it was  unnecessary to hold an inquiry Thus, no autopsy was performed', '5 On 20 April 2021, the applicant submitted claims to the respondent  under the Policies The respondent obtained a report from NTFGH dated 27  May 2021 in which the Attending Physician’s Statement stated that: (a) the primary cause of death was likely cervical spine injury  leading to cardiac arrest; and (b) although the Coroner had reported coronary artery disease with  pneumonia, there was no evidence of acute myocardial infarct on initial  presentation  6 On 19 August 2021, the respondent rejected the applicant’s claims on  the ground that the cause of the Deceased’s death was due to sickness (ie,  coronary artery disease with pneumonia), which was not covered under the  Policies  7 Ms Teng then consulted lawyers and obtained a further medical report  dated 7 July 2022 by a neurologist, Dr Ho King Hee (“Dr Ho”) In his opinion: (a) the radiological evidence was consistent with the presence of a  vertebral fracture; (b) with respect to cause of death, the evidence was most consistent  with sudden aspiration, not with community acquired pneumonia;  (c) there was clear evidence that no heart attack (myocardial  infarction) occurred to cause cardiac arrest, and Version No 2: 14 Mar 2024 (15:29 hrs)', '4 (d) there was no evidence that the Deceased died of coronary artery  disease  Dr Ho disagreed with the Coroner’s certification that the cause of death was due  to natural causes, noting that no autopsy was performed', '8 On 26 July 2022, Letters of Administration were granted to Ms Teng as  the administratrix of the Deceased’s estate (the “Estate”)   9 On 26 August 2022, the Estate’s solicitors wrote to the respondent  enclosing a copy of Dr Ho’s report It is not disputed that the respondent took  time to review the claims and agreed to extend the time bar for commencement  of arbitration until 30 June 2023  10 On 30 December 2022, the respondent confirmed its previous position  that the claims were not covered by the Policies  11 On 10 February 2023, Ms Teng filed two notices of arbitration with the  Singapore International Arbitration Centre (“SIAC”) in connection with the two  Policies On 28 February 2023, the respondent filed its responses to the notices  of arbitration Among other things, the respondent stated that Ms Teng had no  locus standi On 31 March 2023, the SIAC Court of Arbitration consolidated  both sets of proceedings On 19 June 2023, the arbitrator for the consolidated  arbitration proceedings was appointed  12 The arbitrator called for a preliminary meeting on 28 June 2023 During  that preliminary meeting, Ms Teng’s solicitors applied for leave for the  applicant to be joined as co-claimant in the arbitration On 6 July 2023, the  respondent objected to the application and requested a dismissal of the  Version No 2: 14 Mar 2024 (15:29 hrs)', '5 proceedings instead On 27 July 2023, the arbitrator dismissed the joinder  application on the basis that only the applicant (as the policy holder) had the  locus standi to commence arbitration proceedings against the respondent  13 On 4 August 2023, the respondent filed an application for the early  dismissal of the arbitration proceedings, and the arbitrator allowed this  application on 15 September 2023  14 On 6 September 2023, the applicant filed the present application to  extend the time for her to commence arbitration against the respondent The law 15 Section 10 of the AA reads:  Powers of Court to extend time for beginning of arbitral  proceedings 10—(1)  Where the terms of an arbitration agreement to refer  future disputes to arbitration provide that a claim to which the  arbitration agreement applies is barred unless — (a) some step has been taken to begin other dispute  resolution procedures which must be exhausted before  arbitral proceedings can be begun; (b) notice to appoint an arbitrator is given; (c) an arbitrator is appointed; or (d) some other step is taken to commence arbitral  proceedings, within a time fixed by the agreement and a dispute to which the  agreement applies has arisen, the Court may, if it is of the  opinion that in the circumstances of the case undue hardship  would otherwise be caused, extend the time for such period and  on such terms as the Court thinks fit (2)  An order of extension of time made by the Court under  subsection (1) — Version No 2: 14 Mar 2024 (15:29 hrs)', '6 (a) may be made only after any available arbitral  process for obtaining an extension of time has been  exhausted; (b) may be made even though the time so fixed has  expired; and (c) does not affect the operation of section 9 or 11  or any other written law relating to the limitation of  actions', '16 Section 10 of the AA was a substantial re-enactment of s 37 of the  Arbitration Act (Cap 10, 1985 Rev Ed) This was, in turn, in pari materia with  s 27 of the Arbitration Act 1950 (c 27 of 1950) (UK) (“AA 1950 (UK)”)', '17 In Liberian Shipping Corporation “Pegasus” v A King & Sons Ltd  [1967] 2 QB 86 (“The Pegasus”), the English Court of Appeal considered the  meaning of “undue hardship” in the context of s 27 of the AA 1950 (UK), and  the majority explained (at 98) that:  \"Undue\" there simply means excessive It means greater  hardship than the circumstances warrant Even though a  claimant has been at fault himself, it is an undue hardship on  him if the consequences are out of proportion to his fault This definition of “undue hardship” was endorsed by the Singapore Court of  Appeal decision of Recovery Vehicle 1 Pte Ltd v Industries Chimiques Du  Senegal and another appeal and another matter [2021] 1 SLR 342 at [123],  albeit in a different context (ie, whether an application of the foreign limitation  period would cause undue hardship under the Foreign Limitation Periods Act  (Cap 111A, 2013 Rev Ed))  18 The term “undue hardship” should not be construed too narrowly:  Comdel Commodities Ltd v Siporex Trade S A [1991] 1 AC 148 at 166 Whether  there is “undue hardship” is necessarily dependent on the facts of each case  Ultimately, the decision involves balancing the hardship that would be caused  Version No 2: 14 Mar 2024 (15:29 hrs)', '7 to the applicant (if an extension of time is refused) against the fact that the  respondent would lose the protection of a contractual limitation period (if an  extension of time is granted)  19 That said, the following non-exhaustive factors are likely to be relevant: (a) the reasons for the delay in commencing arbitration; in this  regard, the degree of fault on the applicant’s part is relevant but not  necessarily fatal; (b) the duration of the delay in making the application for extension  of time; (c) the value of the dispute;  (d) whether the intended claim can be said to be obviously  unsustainable such that granting an extension of time would be  pointless; an extension of time should not be denied on this ground save  in an obvious case; and  (e) whether the respondent has taken any steps in reliance of the fact  that the contractual limitation period has expired and if so, the prejudice  that would be suffered by the respondent if an extension of time is  granted My decision  20 I granted the application for an extension of time for the applicant to  commence arbitration proceedings against the respondent for the following  reasons  Version No 2: 14 Mar 2024 (15:29 hrs)', \"8 21 First, this was not a case in which the applicant had sat idly by  Arbitration was commenced well before the expiry of the extended time bar of  30 June 2023 The problem was that the arbitration notices were issued in Ms  Teng’s name instead of the applicant’s The respondent pointed out that it had  objected to Ms Teng’s standing in its responses to the notices of arbitration  dated 28 February 2023, but Ms Teng’s lawyers applied to join the applicant  only on 28 June 2023 The respondent submitted that the applicant should have  commenced fresh arbitration proceedings in her own name before the extended  time bar expired; alternatively, the joinder application should have been made  earlier and the applicant could then have commenced fresh arbitrations  proceedings after the joinder application was dismissed  22 I accepted that the acts or omissions by Ms Teng's lawyers should be  attributed to the applicant in this case However, in my view, there were two  mitigating factors: (a) there was an element of hindsight in the respondent’s  submissions, and (b) I noted that the arbitrator for the consolidated arbitration  proceedings was appointed only on 19 June 2023 At the end of the day, in my  view, refusing an extension of time in this case would result in hardship to the  applicant that was out of proportion to whatever fault that was attributable to  her\", '23 Second, in my view, the applicant had acted expeditiously in filing the  present application The extended time bar expired after 30 June 2023  However, it should be noted that the arbitrator dismissed the joinder application  on 27 July 2023, the application for early dismissal of the arbitration  proceedings was made on 4 August 2023 and the order dismissing the  arbitration proceedings was made on 15 September 2023, ie, after this  application was filed on 6 September 2023  Version No 2: 14 Mar 2024 (15:29 hrs)', '9 24 Third, the amount involved was significant The value of the claims  under the Policies amounted to $406,000', '25 Fourth, in the light of Dr Ho’s opinion, it was by no means clear that the  applicant’s claims were obviously unsustainable  26 Fifth, there was no evidence that the respondent had taken any step in  reliance of the fact that the extended time bar had expired  27 In my view, the hardship that would be caused to the applicant, if an  extension of time was not granted, far outweighed the fact that granting the  extension of time would deprive the respondent of its contractual time bar  Conclusion 28  For the reasons above, I allowed the application The applicant agreed  that it should be liable to the respondent for the costs of this application  Accordingly, I ordered the applicant to pay costs to the respondent fixed at  $10,000, including disbursements  Raj Singh Shergill and Chua Gek Yee  (Lee Shergill LLP) for the applicant; Kevin Kwek Yiu Wing, Tan Yiting Gina and Sourish Sinha (Legal  Solutions LLC) for the respondent  Chua Lee Ming Judge of the High Court Version No 2: 14 Mar 2024 (15:29 hrs)']\n"
     ]
    }
   ],
   "source": [
    "import pymupdf  \n",
    "\n",
    "def extract_text(pdf_path):\n",
    "    document = pymupdf.open(pdf_path)\n",
    "    keywords = [\"table of contents\"]\n",
    "    list_of_lines = []\n",
    "\n",
    "    for page in document:\n",
    "        text = page.get_text()\n",
    "        if any(ext in text.lower() for ext in keywords):\n",
    "            continue\n",
    "    \n",
    "        text = text.replace(\"\\n\", \" \")\n",
    "        lines = text.split(\".\")\n",
    "        list_of_lines.append(lines)\n",
    "    return list_of_lines\n",
    "\n",
    "def convert_to_para(line):\n",
    "    paragraphs = []\n",
    "    current_para = \"\"\n",
    "    for sentence in line:\n",
    "        if \"Lee Hui Chin v Chubb Insurance Singapore Ltd [2024] SGHC 69\" in sentence:\n",
    "            sentence = sentence.replace(\"Lee Hui Chin v Chubb Insurance Singapore Ltd [2024] SGHC 69\", \"\").strip()\n",
    "\n",
    "        if sentence[0] == \" \" and sentence[1].isdigit():\n",
    "            if current_para.strip():\n",
    "                paragraphs.append(current_para.strip())\n",
    "            current_para = sentence\n",
    "        else:\n",
    "            current_para += sentence\n",
    "\n",
    "    if current_para.strip():\n",
    "        paragraphs.append(current_para.strip())\n",
    "\n",
    "    return paragraphs\n",
    "\n",
    "paragraphs = []\n",
    "extracted_text = extract_text(\"Cases to be parsed/Lee Hui Chin v Chubb [2024] SGHC 69.pdf\")\n",
    "\n",
    "for i in range(len(extracted_text)):\n",
    "    final = convert_to_para(extracted_text[i])\n",
    "    for para in final:\n",
    "        paragraphs.append(para)\n",
    "\n",
    "print(paragraphs)"
   ]
  },
  {
   "cell_type": "markdown",
   "metadata": {},
   "source": [
    "Goal 2:"
   ]
  },
  {
   "cell_type": "code",
   "execution_count": 187,
   "metadata": {},
   "outputs": [
    {
     "name": "stdout",
     "output_type": "stream",
     "text": [
      "{'para_num': 2, 'text': 'injury The Policies also provided that any dispute was to be referred to  arbitration, and that such arbitration must be commenced three months from the  day such parties were unable to settle the dispute On 2 April 2021, the Deceased  fell while riding his bicycle and was found unconscious in an uncovered drain  He was brought to Ng Teng Fong General Hospital (“NTFGH”) He remained  unconscious until he was removed from life support on 9 April 2021, and he  passed away thereafter'}\n",
      "{'para_num': 3, 'text': 'According to the Deceased’s daughter Ms Rachel Teng (“Ms Teng”): (a) the treating doctors at NTFGH had said that the Deceased died  as a consequence of the injuries sustained in the accident, and (b) an MRI scan on 4 April 2021 showed a spinal cord injury; the  MRI report also referenced changes in the Deceased’s lungs, chest  fractures, hypoxic-ischemic encephalopathy and cardiac arrest, and  reflected that the matter was referred to the coroner in view of “unknown  aetiology of cardiac arrest in the community”  4 A death certificate was issued on 10 April 2021, in which the forensic  pathologist certified that the cause of death was “Coronary Artery Disease with  Pneumonia” The State Coroner (the “Coroner”) issued a certificate on the same  Version No 2: 14 Mar 2024 (15:29 hrs)'}\n",
      "{'para_num': 3, 'text': 'day stating that as the cause of death was due to natural causes, it was  unnecessary to hold an inquiry Thus, no autopsy was performed'}\n",
      "{'para_num': 5, 'text': 'On 20 April 2021, the applicant submitted claims to the respondent  under the Policies The respondent obtained a report from NTFGH dated 27  May 2021 in which the Attending Physician’s Statement stated that: (a) the primary cause of death was likely cervical spine injury  leading to cardiac arrest; and (b) although the Coroner had reported coronary artery disease with  pneumonia, there was no evidence of acute myocardial infarct on initial  presentation  6 On 19 August 2021, the respondent rejected the applicant’s claims on  the ground that the cause of the Deceased’s death was due to sickness (ie,  coronary artery disease with pneumonia), which was not covered under the  Policies  7 Ms Teng then consulted lawyers and obtained a further medical report  dated 7 July 2022 by a neurologist, Dr Ho King Hee (“Dr Ho”) In his opinion: (a) the radiological evidence was consistent with the presence of a  vertebral fracture; (b) with respect to cause of death, the evidence was most consistent  with sudden aspiration, not with community acquired pneumonia;  (c) there was clear evidence that no heart attack (myocardial  infarction) occurred to cause cardiac arrest, and Version No 2: 14 Mar 2024 (15:29 hrs)'}\n",
      "{'para_num': 4, 'text': '(d) there was no evidence that the Deceased died of coronary artery  disease  Dr Ho disagreed with the Coroner’s certification that the cause of death was due  to natural causes, noting that no autopsy was performed'}\n",
      "{'para_num': 8, 'text': 'On 26 July 2022, Letters of Administration were granted to Ms Teng as  the administratrix of the Deceased’s estate (the “Estate”)   9 On 26 August 2022, the Estate’s solicitors wrote to the respondent  enclosing a copy of Dr Ho’s report It is not disputed that the respondent took  time to review the claims and agreed to extend the time bar for commencement  of arbitration until 30 June 2023  10 On 30 December 2022, the respondent confirmed its previous position  that the claims were not covered by the Policies  11 On 10 February 2023, Ms Teng filed two notices of arbitration with the  Singapore International Arbitration Centre (“SIAC”) in connection with the two  Policies On 28 February 2023, the respondent filed its responses to the notices  of arbitration Among other things, the respondent stated that Ms Teng had no  locus standi On 31 March 2023, the SIAC Court of Arbitration consolidated  both sets of proceedings On 19 June 2023, the arbitrator for the consolidated  arbitration proceedings was appointed  12 The arbitrator called for a preliminary meeting on 28 June 2023 During  that preliminary meeting, Ms Teng’s solicitors applied for leave for the  applicant to be joined as co-claimant in the arbitration On 6 July 2023, the  respondent objected to the application and requested a dismissal of the  Version No 2: 14 Mar 2024 (15:29 hrs)'}\n",
      "{'para_num': 5, 'text': 'proceedings instead On 27 July 2023, the arbitrator dismissed the joinder  application on the basis that only the applicant (as the policy holder) had the  locus standi to commence arbitration proceedings against the respondent  13 On 4 August 2023, the respondent filed an application for the early  dismissal of the arbitration proceedings, and the arbitrator allowed this  application on 15 September 2023  14 On 6 September 2023, the applicant filed the present application to  extend the time for her to commence arbitration against the respondent The law 15 Section 10 of the AA reads:  Powers of Court to extend time for beginning of arbitral  proceedings 10—(1)  Where the terms of an arbitration agreement to refer  future disputes to arbitration provide that a claim to which the  arbitration agreement applies is barred unless — (a) some step has been taken to begin other dispute  resolution procedures which must be exhausted before  arbitral proceedings can be begun; (b) notice to appoint an arbitrator is given; (c) an arbitrator is appointed; or (d) some other step is taken to commence arbitral  proceedings, within a time fixed by the agreement and a dispute to which the  agreement applies has arisen, the Court may, if it is of the  opinion that in the circumstances of the case undue hardship  would otherwise be caused, extend the time for such period and  on such terms as the Court thinks fit (2)  An order of extension of time made by the Court under  subsection (1) — Version No 2: 14 Mar 2024 (15:29 hrs)'}\n",
      "{'para_num': 6, 'text': '(a) may be made only after any available arbitral  process for obtaining an extension of time has been  exhausted; (b) may be made even though the time so fixed has  expired; and (c) does not affect the operation of section 9 or 11  or any other written law relating to the limitation of  actions'}\n",
      "{'para_num': 16, 'text': 'Section 10 of the AA was a substantial re-enactment of s 37 of the  Arbitration Act (Cap 10, 1985 Rev Ed) This was, in turn, in pari materia with  s 27 of the Arbitration Act 1950 (c 27 of 1950) (UK) (“AA 1950 (UK)”)'}\n",
      "{'para_num': 17, 'text': 'In Liberian Shipping Corporation “Pegasus” v A King & Sons Ltd  [1967] 2 QB 86 (“The Pegasus”), the English Court of Appeal considered the  meaning of “undue hardship” in the context of s 27 of the AA 1950 (UK), and  the majority explained (at 98) that:  \"Undue\" there simply means excessive It means greater  hardship than the circumstances warrant Even though a  claimant has been at fault himself, it is an undue hardship on  him if the consequences are out of proportion to his fault This definition of “undue hardship” was endorsed by the Singapore Court of  Appeal decision of Recovery Vehicle 1 Pte Ltd v Industries Chimiques Du  Senegal and another appeal and another matter [2021] 1 SLR 342 at [123],  albeit in a different context (ie, whether an application of the foreign limitation  period would cause undue hardship under the Foreign Limitation Periods Act  (Cap 111A, 2013 Rev Ed))  18 The term “undue hardship” should not be construed too narrowly:  Comdel Commodities Ltd v Siporex Trade S A [1991] 1 AC 148 at 166 Whether  there is “undue hardship” is necessarily dependent on the facts of each case  Ultimately, the decision involves balancing the hardship that would be caused  Version No 2: 14 Mar 2024 (15:29 hrs)'}\n",
      "{'para_num': 7, 'text': 'to the applicant (if an extension of time is refused) against the fact that the  respondent would lose the protection of a contractual limitation period (if an  extension of time is granted)  19 That said, the following non-exhaustive factors are likely to be relevant: (a) the reasons for the delay in commencing arbitration; in this  regard, the degree of fault on the applicant’s part is relevant but not  necessarily fatal; (b) the duration of the delay in making the application for extension  of time; (c) the value of the dispute;  (d) whether the intended claim can be said to be obviously  unsustainable such that granting an extension of time would be  pointless; an extension of time should not be denied on this ground save  in an obvious case; and  (e) whether the respondent has taken any steps in reliance of the fact  that the contractual limitation period has expired and if so, the prejudice  that would be suffered by the respondent if an extension of time is  granted My decision  20 I granted the application for an extension of time for the applicant to  commence arbitration proceedings against the respondent for the following  reasons  Version No 2: 14 Mar 2024 (15:29 hrs)'}\n",
      "{'para_num': 8, 'text': \"21 First, this was not a case in which the applicant had sat idly by  Arbitration was commenced well before the expiry of the extended time bar of  30 June 2023 The problem was that the arbitration notices were issued in Ms  Teng’s name instead of the applicant’s The respondent pointed out that it had  objected to Ms Teng’s standing in its responses to the notices of arbitration  dated 28 February 2023, but Ms Teng’s lawyers applied to join the applicant  only on 28 June 2023 The respondent submitted that the applicant should have  commenced fresh arbitration proceedings in her own name before the extended  time bar expired; alternatively, the joinder application should have been made  earlier and the applicant could then have commenced fresh arbitrations  proceedings after the joinder application was dismissed  22 I accepted that the acts or omissions by Ms Teng's lawyers should be  attributed to the applicant in this case However, in my view, there were two  mitigating factors: (a) there was an element of hindsight in the respondent’s  submissions, and (b) I noted that the arbitrator for the consolidated arbitration  proceedings was appointed only on 19 June 2023 At the end of the day, in my  view, refusing an extension of time in this case would result in hardship to the  applicant that was out of proportion to whatever fault that was attributable to  her\"}\n",
      "{'para_num': 23, 'text': 'Second, in my view, the applicant had acted expeditiously in filing the  present application The extended time bar expired after 30 June 2023  However, it should be noted that the arbitrator dismissed the joinder application  on 27 July 2023, the application for early dismissal of the arbitration  proceedings was made on 4 August 2023 and the order dismissing the  arbitration proceedings was made on 15 September 2023, ie, after this  application was filed on 6 September 2023  Version No 2: 14 Mar 2024 (15:29 hrs)'}\n",
      "{'para_num': 9, 'text': '24 Third, the amount involved was significant The value of the claims  under the Policies amounted to $406,000'}\n",
      "{'para_num': 25, 'text': 'Fourth, in the light of Dr Ho’s opinion, it was by no means clear that the  applicant’s claims were obviously unsustainable  26 Fifth, there was no evidence that the respondent had taken any step in  reliance of the fact that the extended time bar had expired  27 In my view, the hardship that would be caused to the applicant, if an  extension of time was not granted, far outweighed the fact that granting the  extension of time would deprive the respondent of its contractual time bar  Conclusion 28  For the reasons above, I allowed the application The applicant agreed  that it should be liable to the respondent for the costs of this application  Accordingly, I ordered the applicant to pay costs to the respondent fixed at  $10,000, including disbursements  Raj Singh Shergill and Chua Gek Yee  (Lee Shergill LLP) for the applicant; Kevin Kwek Yiu Wing, Tan Yiting Gina and Sourish Sinha (Legal  Solutions LLC) for the respondent  Chua Lee Ming Judge of the High Court Version No 2: 14 Mar 2024 (15:29 hrs)'}\n"
     ]
    }
   ],
   "source": [
    "import re\n",
    "\n",
    "def extract_paragraph_data(paragraphs):\n",
    "    data = []\n",
    "    for para in paragraphs:\n",
    "        match = re.match(r\"^(\\d+)\\s+(.*)\", para)\n",
    "        if match:\n",
    "            para_num = int(match.group(1))\n",
    "            text = match.group(2)\n",
    "            data.append({\n",
    "                \"para_num\": para_num,\n",
    "                \"text\": text\n",
    "            })\n",
    "    return data\n",
    "\n",
    "structured_data = extract_paragraph_data(paragraphs)\n",
    "\n",
    "for entry in structured_data:\n",
    "    print(entry)"
   ]
  },
  {
   "cell_type": "markdown",
   "metadata": {},
   "source": [
    "Goal 3:"
   ]
  },
  {
   "cell_type": "code",
   "execution_count": 190,
   "metadata": {},
   "outputs": [
    {
     "name": "stdout",
     "output_type": "stream",
     "text": [
      "['IN THE GENERAL DIVISION OF ', 'THE HIGH COURT OF THE REPUBLIC OF SINGAPORE', '[2024] SGHC 69', 'GROUNDS OF DECISION', 'TABLE OF CONTENTS', 'INTRODUCTION............................................................................................1', 'FACTS...............................................................................................................1', 'THE LAW.........................................................................................................5', 'MY DECISION ................................................................................................7', 'CONCLUSION.................................................................................................9', 'This judgment is subject to final editorial corrections approved by the ', 'court and/or redaction pursuant to the publisher’s duty in compliance ', 'with the law, for publication in LawNet and/or the Singapore Law ', 'Reports.', 'Lee Hui Chin ', 'v', 'Chubb Insurance Singapore Ltd ', '[2024] SGHC 69', 'Chua Lee Ming J:', 'Introduction ', 'Facts', 'The law', 'Powers of Court to extend time for beginning of arbitral ', 'proceedings', 'My decision ', 'Conclusion']\n"
     ]
    }
   ],
   "source": [
    "import pymupdf\n",
    "import re\n",
    "\n",
    "def extract_paragraph_data(paragraphs):\n",
    "    data = []\n",
    "    for para in paragraphs:\n",
    "        match = re.match(r\"^(\\d+)\\s+(.*)\", para)\n",
    "        if match:\n",
    "            para_num = int(match.group(1))\n",
    "            text = match.group(2)\n",
    "            data.append({\n",
    "                \"para_num\": para_num,\n",
    "                \"text\": text\n",
    "            })\n",
    "    return data\n",
    "\n",
    "def extract_bold_headers(pdf_path):\n",
    "    document = pymupdf.open(pdf_path)\n",
    "    bold_headers = []\n",
    "\n",
    "    for page in document:\n",
    "        text_dict = page.get_text(\"dict\")  \n",
    "        \n",
    "        for block in text_dict[\"blocks\"]:\n",
    "            for line in block[\"lines\"]:\n",
    "                for span in line[\"spans\"]:  \n",
    "                    text = span['text']\n",
    "                    font = span['font']  \n",
    "                    \n",
    "                    if 'bold' in font.lower(): \n",
    "                        bold_headers.append(text)\n",
    "\n",
    "    return bold_headers\n",
    "\n",
    "pdf_path = \"Cases to be parsed/Lee Hui Chin v Chubb [2024] SGHC 69.pdf\"\n",
    "print(extract_bold_headers(pdf_path))"
   ]
  }
 ],
 "metadata": {
  "language_info": {
   "name": "python"
  },
  "orig_nbformat": 4
 },
 "nbformat": 4,
 "nbformat_minor": 2
}
